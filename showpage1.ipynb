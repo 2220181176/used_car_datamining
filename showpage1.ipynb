{
 "cells": [
  {
   "cell_type": "code",
   "execution_count": 3,
   "id": "0355f00c",
   "metadata": {
    "scrolled": false
   },
   "outputs": [
    {
     "name": "stdout",
     "output_type": "stream",
     "text": [
      "Running on local URL:  http://127.0.0.1:7862\n",
      "\n",
      "To create a public link, set `share=True` in `launch()`.\n"
     ]
    },
    {
     "data": {
      "text/plain": "<IPython.core.display.HTML object>",
      "text/html": "<div><iframe src=\"http://127.0.0.1:7862/\" width=\"100%\" height=\"500\" allow=\"autoplay; camera; microphone; clipboard-read; clipboard-write;\" frameborder=\"0\" allowfullscreen></iframe></div>"
     },
     "metadata": {},
     "output_type": "display_data"
    },
    {
     "data": {
      "text/plain": ""
     },
     "execution_count": 3,
     "metadata": {},
     "output_type": "execute_result"
    }
   ],
   "source": [
    "import gradio as gr\n",
    "import numpy as np\n",
    "import pandas as pd\n",
    "import pickle\n",
    "import joblib\n",
    "from pandas.core.frame import DataFrame\n",
    "from sklearn.preprocessing import StandardScaler\n",
    "\n",
    "from sklearn.decomposition import PCA\n",
    "\n",
    "cn = [\"a4\", \"x8\", \"秦\"]\n",
    "carNameCap = [1,2,3,4,5,6,7,8]\n",
    "fuelCap = [\"汽油\", \"柴油\", \"液化石油气\", \"天然气\", \"混合动力\", \"其他\", \"电动\"]\n",
    "carb = [\"豪华轿车\", \"小型车\", \"厢型车\", \"大巴车\", \"敞篷车\", \"双开门汽车\", \"商务车\", \"搅拌车\"]\n",
    "gearbox = [\"自动\", \"手动\"]\n",
    "fuelsys = [\"电动\", \"燃油\"]\n",
    "unfixed_damage = [\"是\", \"否\"]\n",
    "sell = [\"个体\", \"非个体\"]\n",
    "offer = [\"出售\", \"求购\"]\n",
    "\n",
    "# 归一化\n",
    "def scale_minmax(col):\n",
    "    return (col-col.min())/(col.max()-col.min())\n",
    "\n",
    "def car_price(data):\n",
    "\n",
    "    # 模型读取\n",
    "    # xgb_model = pickle.load(open('xgb.pkl', 'rb'))\n",
    "    # lgb_model = pickle.load(open('lgb.pkl', 'rb'))\n",
    "    xgb_model = joblib.load('xgb.pkl')\n",
    "    lgb_model = joblib.load('lgb.pkl')\n",
    "    print(xgb_model.feature_importances_)\n",
    "    MAE_LGB = 624.05661\n",
    "    MAE_XGB = 597.72837\n",
    "\n",
    "    # 这部分照搬的处理流程,可能有问题\n",
    "    # data = [car, fueltype, bodytype, kilomiter, usetype]\n",
    "    #print(xgb_model.feature_names_in_)\n",
    "    print(data)\n",
    "    test_data_process = DataFrame(data,columns = xgb_model.feature_names_in_)\n",
    "    #test_data_process1 = test_data_process.drop(labels=['SaleID','name','seller'],axis=1)\n",
    "    #test_data_process.columns=['SaleID','name','regDate','model','brand','bodyType','fuelType','gearbox','power','kilometer','regionCode','seller','offerType','createDate','v_0','v_1','v_2','v_3','v_4','v_5','v_6','v_7','v_8','v_9','v_10','v_11','v_12','v_13','v_14']\n",
    "    #test_data_process = test_data_process.apply(scale_minmax, axis=0)\n",
    "    #test_data_process1 = test_data_process1.apply(scale_minmax, axis=0)\n",
    "    \n",
    "    '''\n",
    "    pca = PCA(n_components=1)\n",
    "    new_test_pca_4 = pca.fit_transform(test_data_process)\n",
    "    new_test_pca_4 = pd.DataFrame(new_test_pca_4)\n",
    "    '''\n",
    "    \n",
    "    out_lgb = lgb_model.predict(test_data_process)\n",
    "    out_xgb = xgb_model.predict(test_data_process)\n",
    "    print('lgb_out',out_lgb)\n",
    "    print('xgb_out',out_xgb)\n",
    "    # 结果输出\n",
    "    final_out = (1 - MAE_LGB / (MAE_XGB + MAE_LGB)) * out_lgb + (1 - MAE_XGB / (MAE_XGB + MAE_LGB)) * out_xgb\n",
    "\n",
    "    return final_out\n",
    "\n",
    "\n",
    "def transform(carname, cartype, date_time_input, bodytype, fueltype, usetype, power, kilomiter, damage, region_cod, seller, offerType):\n",
    "    carname = cn.index(carname)\n",
    "    cartype = carNameCap.index(cartype)\n",
    "    date_time_input = int(date_time_input)\n",
    "    bodytype = carb.index(bodytype)\n",
    "    fueltype = fuelCap.index(fueltype)\n",
    "    usetype = gearbox.index(usetype)\n",
    "    damage = unfixed_damage.index(damage)\n",
    "    seller = sell.index(seller)\n",
    "    offerType = offer.index(offerType)\n",
    "    data = {'SaleID':[1],'name':[68349.172873],'regDate':[date_time_input],'model':[47.129021],'brand':[int(cartype)],  'bodyType':[bodytype],'fuelType':[fueltype],'gearbox':[usetype],'power':[power], 'kilometer':[kilomiter] ,     'regionCode':[region_cod],'seller':[0],'offerType':[offerType],'creatDate':[int(20160328)],'v_0':[44.406268],'v_1':[-0.044809],'v_2':[0.080765],'v_3':[0.078833],'v_4':[0.017875],'v_5':[0.248204],'v_6':[0.044923],'v_7':[0.124692],'v_8':[0.058144],'v_9':[0.061996],'v_10':[-0.001000],'v_11':[0.009035],'v_12':[0.004813],'v_13':[0.000313],'v_14':[-0.000688]}\n",
    "    return car_price(data)\n",
    "#data = {date_time_input,47.129021,int(cartype),  bodytype,fueltype,usetype,power, kilomiter ,     region_cod,offerType,20160328,44.406268,-0.044809,0.080765,0.078833,0.017875,0.248204,0.044923,0.124692,0.058144,0.061996,-0.001000,0.009035,0.004813,0.000313,-0.000688}\n",
    "    \n",
    "# 界面内要输入的东西\n",
    "carname = gr.Radio(label=\"汽车名称\", choices=cn)\n",
    "cartype = gr.Radio(label=\"汽车品牌\", choices=carNameCap)\n",
    "date_time_input = gr.Textbox(label=\"购车时间（例如：20200114）\")\n",
    "bodytype = gr.Radio(label=\"汽车类别\", choices=carb)\n",
    "fueltype = gr.Radio(label=\"燃油种类\", choices=fuelCap)\n",
    "usetype = gr.Radio(label=\"变速箱\", choices=gearbox)\n",
    "power = gr.Slider(label=\"发动机功率\", minimum=0, maximum=600)\n",
    "kilomiter = gr.Slider(label=\"行驶里程(万公里)\", minimum=0, maximum=15)\n",
    "damage = gr.Radio(label=\"车身是否有尚未修复损坏\", choices=unfixed_damage)\n",
    "region_cod = gr.Radio(label=\"地区编码\", choices=[10, 20, 30])\n",
    "seller = gr.Radio(label=\"销售方\", choices=[\"个体\", \"非个体\"])\n",
    "offerType = gr.Radio(label=\"买卖方\", choices=[\"出售\", \"求购\"])\n",
    "output = gr.Textbox()\n",
    "\n",
    "prediction = gr.Interface(title=\"二手车价格预测\",\n",
    "                       fn=transform,\n",
    "                       inputs=[carname,\n",
    "                               cartype,\n",
    "                               date_time_input,\n",
    "                               bodytype,\n",
    "                               fueltype,\n",
    "                               usetype,\n",
    "                               power,\n",
    "                               kilomiter,\n",
    "                               damage,\n",
    "                               region_cod,\n",
    "                               seller,\n",
    "                               offerType],\n",
    "                       outputs=output)\n",
    "# 展示\n",
    "prediction.launch()\n"
   ]
  },
  {
   "cell_type": "code",
   "execution_count": 3,
   "id": "26c6f055",
   "metadata": {},
   "outputs": [],
   "source": []
  },
  {
   "cell_type": "code",
   "execution_count": 3,
   "id": "dc76dfbe",
   "metadata": {
    "collapsed": true
   },
   "outputs": [],
   "source": []
  }
 ],
 "metadata": {
  "kernelspec": {
   "display_name": "Python 3 (ipykernel)",
   "language": "python",
   "name": "python3"
  },
  "language_info": {
   "codemirror_mode": {
    "name": "ipython",
    "version": 3
   },
   "file_extension": ".py",
   "mimetype": "text/x-python",
   "name": "python",
   "nbconvert_exporter": "python",
   "pygments_lexer": "ipython3",
   "version": "3.9.13"
  }
 },
 "nbformat": 4,
 "nbformat_minor": 5
}
